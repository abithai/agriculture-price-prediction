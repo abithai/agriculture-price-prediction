{
 "cells": [
  {
   "cell_type": "code",
   "execution_count": 61,
   "id": "ee71f91c",
   "metadata": {},
   "outputs": [],
   "source": [
    "import os\n",
    "import numpy as np\n",
    "import pandas as pd\n",
    "import matplotlib.pyplot as plt\n",
    "%matplotlib inline"
   ]
  },
  {
   "cell_type": "code",
   "execution_count": 141,
   "id": "f05299e6",
   "metadata": {},
   "outputs": [
    {
     "data": {
      "text/html": [
       "<div>\n",
       "<style scoped>\n",
       "    .dataframe tbody tr th:only-of-type {\n",
       "        vertical-align: middle;\n",
       "    }\n",
       "\n",
       "    .dataframe tbody tr th {\n",
       "        vertical-align: top;\n",
       "    }\n",
       "\n",
       "    .dataframe thead th {\n",
       "        text-align: right;\n",
       "    }\n",
       "</style>\n",
       "<table border=\"1\" class=\"dataframe\">\n",
       "  <thead>\n",
       "    <tr style=\"text-align: right;\">\n",
       "      <th></th>\n",
       "      <th>commodity_name</th>\n",
       "      <th>state</th>\n",
       "      <th>district</th>\n",
       "      <th>market</th>\n",
       "      <th>min_price</th>\n",
       "      <th>max_price</th>\n",
       "      <th>modal_price</th>\n",
       "      <th>date</th>\n",
       "    </tr>\n",
       "  </thead>\n",
       "  <tbody>\n",
       "    <tr>\n",
       "      <th>0</th>\n",
       "      <td>Cashewnuts</td>\n",
       "      <td>Tamil Nadu</td>\n",
       "      <td>Ariyalur</td>\n",
       "      <td>Andimadom</td>\n",
       "      <td>84.0</td>\n",
       "      <td>86.5</td>\n",
       "      <td>85.0</td>\n",
       "      <td>22-May-19</td>\n",
       "    </tr>\n",
       "    <tr>\n",
       "      <th>1</th>\n",
       "      <td>Cashewnuts</td>\n",
       "      <td>Tamil Nadu</td>\n",
       "      <td>Ariyalur</td>\n",
       "      <td>Andimadom</td>\n",
       "      <td>83.0</td>\n",
       "      <td>85.0</td>\n",
       "      <td>83.5</td>\n",
       "      <td>23-May-19</td>\n",
       "    </tr>\n",
       "    <tr>\n",
       "      <th>2</th>\n",
       "      <td>Cashewnuts</td>\n",
       "      <td>Tamil Nadu</td>\n",
       "      <td>Ariyalur</td>\n",
       "      <td>Andimadom</td>\n",
       "      <td>75.0</td>\n",
       "      <td>77.0</td>\n",
       "      <td>75.5</td>\n",
       "      <td>28-May-19</td>\n",
       "    </tr>\n",
       "    <tr>\n",
       "      <th>3</th>\n",
       "      <td>Cashewnuts</td>\n",
       "      <td>Tamil Nadu</td>\n",
       "      <td>Ariyalur</td>\n",
       "      <td>Andimadom</td>\n",
       "      <td>61.0</td>\n",
       "      <td>62.5</td>\n",
       "      <td>61.5</td>\n",
       "      <td>10-Jun-19</td>\n",
       "    </tr>\n",
       "    <tr>\n",
       "      <th>4</th>\n",
       "      <td>Cashewnuts</td>\n",
       "      <td>Tamil Nadu</td>\n",
       "      <td>Ariyalur</td>\n",
       "      <td>Andimadom</td>\n",
       "      <td>62.0</td>\n",
       "      <td>63.5</td>\n",
       "      <td>62.5</td>\n",
       "      <td>12-Jun-19</td>\n",
       "    </tr>\n",
       "  </tbody>\n",
       "</table>\n",
       "</div>"
      ],
      "text/plain": [
       "  commodity_name       state  district     market  min_price  max_price  \\\n",
       "0     Cashewnuts  Tamil Nadu  Ariyalur  Andimadom       84.0       86.5   \n",
       "1     Cashewnuts  Tamil Nadu  Ariyalur  Andimadom       83.0       85.0   \n",
       "2     Cashewnuts  Tamil Nadu  Ariyalur  Andimadom       75.0       77.0   \n",
       "3     Cashewnuts  Tamil Nadu  Ariyalur  Andimadom       61.0       62.5   \n",
       "4     Cashewnuts  Tamil Nadu  Ariyalur  Andimadom       62.0       63.5   \n",
       "\n",
       "   modal_price       date  \n",
       "0         85.0  22-May-19  \n",
       "1         83.5  23-May-19  \n",
       "2         75.5  28-May-19  \n",
       "3         61.5  10-Jun-19  \n",
       "4         62.5  12-Jun-19  "
      ]
     },
     "execution_count": 141,
     "metadata": {},
     "output_type": "execute_result"
    }
   ],
   "source": [
    "dataset_train=pd.read_csv(\"training.csv\")\n",
    "dataset_train.head()"
   ]
  },
  {
   "cell_type": "code",
   "execution_count": 145,
   "id": "58e1000c",
   "metadata": {},
   "outputs": [
    {
     "name": "stdout",
     "output_type": "stream",
     "text": [
      "[[ 85.  ]\n",
      " [ 83.5 ]\n",
      " [ 75.5 ]\n",
      " [ 61.5 ]\n",
      " [ 62.5 ]\n",
      " [ 61.  ]\n",
      " [ 63.5 ]\n",
      " [ 81.  ]\n",
      " [ 80.  ]\n",
      " [ 82.  ]\n",
      " [ 88.75]\n",
      " [ 93.75]\n",
      " [ 95.  ]\n",
      " [ 81.  ]\n",
      " [ 93.75]\n",
      " [ 92.5 ]\n",
      " [ 91.25]\n",
      " [ 96.25]\n",
      " [ 93.75]\n",
      " [ 87.5 ]\n",
      " [ 90.  ]\n",
      " [ 86.25]\n",
      " [ 86.25]\n",
      " [ 88.75]\n",
      " [ 87.5 ]\n",
      " [ 90.  ]\n",
      " [ 90.63]\n",
      " [ 88.75]\n",
      " [ 96.25]\n",
      " [ 95.  ]\n",
      " [ 97.5 ]\n",
      " [ 96.25]\n",
      " [ 97.5 ]\n",
      " [ 98.75]\n",
      " [100.  ]\n",
      " [115.  ]]\n",
      "(36, 1)\n"
     ]
    }
   ],
   "source": [
    "training_set= dataset_train.iloc[0:36,6:7].values\n",
    "print(training_set)\n",
    "print(training_set.shape)"
   ]
  },
  {
   "cell_type": "raw",
   "id": "bf47a544",
   "metadata": {},
   "source": []
  },
  {
   "cell_type": "code",
   "execution_count": 146,
   "id": "2641f691",
   "metadata": {},
   "outputs": [
    {
     "data": {
      "text/plain": [
       "array([[0.44444444],\n",
       "       [0.41666667],\n",
       "       [0.26851852],\n",
       "       [0.00925926],\n",
       "       [0.02777778],\n",
       "       [0.        ],\n",
       "       [0.0462963 ],\n",
       "       [0.37037037],\n",
       "       [0.35185185],\n",
       "       [0.38888889],\n",
       "       [0.51388889],\n",
       "       [0.60648148],\n",
       "       [0.62962963],\n",
       "       [0.37037037],\n",
       "       [0.60648148],\n",
       "       [0.58333333],\n",
       "       [0.56018519],\n",
       "       [0.65277778],\n",
       "       [0.60648148],\n",
       "       [0.49074074],\n",
       "       [0.53703704],\n",
       "       [0.46759259],\n",
       "       [0.46759259],\n",
       "       [0.51388889],\n",
       "       [0.49074074],\n",
       "       [0.53703704],\n",
       "       [0.5487037 ],\n",
       "       [0.51388889],\n",
       "       [0.65277778],\n",
       "       [0.62962963],\n",
       "       [0.67592593],\n",
       "       [0.65277778],\n",
       "       [0.67592593],\n",
       "       [0.69907407],\n",
       "       [0.72222222],\n",
       "       [1.        ]])"
      ]
     },
     "execution_count": 146,
     "metadata": {},
     "output_type": "execute_result"
    }
   ],
   "source": [
    "from sklearn.preprocessing import MinMaxScaler\n",
    "scaler=MinMaxScaler(feature_range=(0,1))\n",
    "scaled_training_set=scaler.fit_transform(training_set)\n",
    "scaled_training_set"
   ]
  },
  {
   "cell_type": "code",
   "execution_count": 147,
   "id": "8c102668",
   "metadata": {},
   "outputs": [
    {
     "name": "stdout",
     "output_type": "stream",
     "text": [
      "(26, 10)\n",
      "(26,)\n"
     ]
    }
   ],
   "source": [
    "x_train=[]\n",
    "y_train=[]\n",
    "for i in range(10,36):\n",
    "    x_train.append(scaled_training_set_cashew[i-10:i,0])\n",
    "    y_train.append(scaled_training_set_cashew[i,0])\n",
    "x_train=np.array(x_train)\n",
    "y_train=np.array(y_train)\n",
    "print(x_train.shape)\n",
    "print(y_train.shape)"
   ]
  },
  {
   "cell_type": "code",
   "execution_count": 148,
   "id": "cf662acb",
   "metadata": {},
   "outputs": [
    {
     "name": "stdout",
     "output_type": "stream",
     "text": [
      "(26, 10)\n"
     ]
    }
   ],
   "source": [
    "\n",
    "x_train= np.reshape(x_train,(x_train.shape[0],x_train.shape[1]))\n",
    "print(x_train.shape)\n"
   ]
  },
  {
   "cell_type": "code",
   "execution_count": 149,
   "id": "3e7dbf04",
   "metadata": {},
   "outputs": [],
   "source": [
    "from keras.models import Sequential\n",
    "from keras.layers import LSTM\n",
    "from keras.layers import Dense\n",
    "from keras.layers import Dropout"
   ]
  },
  {
   "cell_type": "code",
   "execution_count": 150,
   "id": "cf05c29f",
   "metadata": {},
   "outputs": [
    {
     "data": {
      "text/plain": [
       "array([[ 90.  ],\n",
       "       [ 88.75],\n",
       "       [ 92.5 ],\n",
       "       [ 93.75],\n",
       "       [ 98.75],\n",
       "       [100.  ],\n",
       "       [101.25],\n",
       "       [102.5 ],\n",
       "       [103.13],\n",
       "       [102.5 ],\n",
       "       [103.75],\n",
       "       [105.  ],\n",
       "       [105.  ],\n",
       "       [100.  ],\n",
       "       [100.  ],\n",
       "       [ 98.75],\n",
       "       [ 96.25],\n",
       "       [ 95.  ],\n",
       "       [ 98.75],\n",
       "       [ 97.5 ],\n",
       "       [100.  ],\n",
       "       [ 98.75],\n",
       "       [100.  ],\n",
       "       [100.  ],\n",
       "       [101.25],\n",
       "       [101.25],\n",
       "       [102.5 ],\n",
       "       [103.75],\n",
       "       [102.5 ],\n",
       "       [101.25],\n",
       "       [101.25],\n",
       "       [ 96.25],\n",
       "       [ 95.  ],\n",
       "       [ 96.25],\n",
       "       [ 96.25],\n",
       "       [ 93.75]])"
      ]
     },
     "execution_count": 150,
     "metadata": {},
     "output_type": "execute_result"
    }
   ],
   "source": [
    "dataset_test=pd.read_csv(\"testing.csv\")\n",
    "dataset_test.head()\n",
    "\n",
    "testing_set= dataset_test.iloc[0:36:,6:7].values\n",
    "testing_set"
   ]
  },
  {
   "cell_type": "code",
   "execution_count": 151,
   "id": "17021411",
   "metadata": {},
   "outputs": [
    {
     "data": {
      "text/plain": [
       "array([[ 85.  ],\n",
       "       [ 83.5 ],\n",
       "       [ 75.5 ],\n",
       "       [ 61.5 ],\n",
       "       [ 62.5 ],\n",
       "       [ 61.  ],\n",
       "       [ 63.5 ],\n",
       "       [ 81.  ],\n",
       "       [ 80.  ],\n",
       "       [ 82.  ],\n",
       "       [ 88.75],\n",
       "       [ 93.75],\n",
       "       [ 95.  ],\n",
       "       [ 81.  ],\n",
       "       [ 93.75],\n",
       "       [ 92.5 ],\n",
       "       [ 91.25],\n",
       "       [ 96.25],\n",
       "       [ 93.75],\n",
       "       [ 87.5 ],\n",
       "       [ 90.  ],\n",
       "       [ 86.25],\n",
       "       [ 86.25],\n",
       "       [ 88.75],\n",
       "       [ 87.5 ],\n",
       "       [ 90.  ],\n",
       "       [ 90.63],\n",
       "       [ 88.75],\n",
       "       [ 96.25],\n",
       "       [ 95.  ],\n",
       "       [ 97.5 ],\n",
       "       [ 96.25],\n",
       "       [ 97.5 ],\n",
       "       [ 98.75],\n",
       "       [100.  ],\n",
       "       [115.  ],\n",
       "       [ 90.  ],\n",
       "       [ 88.75],\n",
       "       [ 92.5 ],\n",
       "       [ 93.75],\n",
       "       [ 98.75],\n",
       "       [100.  ],\n",
       "       [101.25],\n",
       "       [102.5 ],\n",
       "       [103.13],\n",
       "       [102.5 ],\n",
       "       [103.75],\n",
       "       [105.  ],\n",
       "       [105.  ],\n",
       "       [100.  ],\n",
       "       [100.  ],\n",
       "       [ 98.75],\n",
       "       [ 96.25],\n",
       "       [ 95.  ],\n",
       "       [ 98.75],\n",
       "       [ 97.5 ],\n",
       "       [100.  ],\n",
       "       [ 98.75],\n",
       "       [100.  ],\n",
       "       [100.  ],\n",
       "       [101.25],\n",
       "       [101.25],\n",
       "       [102.5 ],\n",
       "       [103.75],\n",
       "       [102.5 ],\n",
       "       [101.25],\n",
       "       [101.25],\n",
       "       [ 96.25],\n",
       "       [ 95.  ],\n",
       "       [ 96.25],\n",
       "       [ 96.25],\n",
       "       [ 93.75]])"
      ]
     },
     "execution_count": 151,
     "metadata": {},
     "output_type": "execute_result"
    }
   ],
   "source": [
    "dataset_test['modal_price'][0:43]\n",
    "\n",
    "dataset_total=pd.concat((dataset_train['modal_price'][0:36],dataset_test['modal_price'][0:36]),axis=0)\n",
    "inputs=dataset_total.values\n",
    "inputs = inputs.reshape(-1,1)\n",
    "inputs"
   ]
  },
  {
   "cell_type": "code",
   "execution_count": 152,
   "id": "5612e4cb",
   "metadata": {},
   "outputs": [
    {
     "data": {
      "text/plain": [
       "(26, 10)"
      ]
     },
     "execution_count": 152,
     "metadata": {},
     "output_type": "execute_result"
    }
   ],
   "source": [
    "x_test=[]\n",
    "for i in range(10,36):\n",
    "    x_test.append(inputs[i-10:i,0])\n",
    "x_test=np.array(x_test)\n",
    "x_test=np.reshape(x_test,(x_test.shape[0],x_test.shape[1]))\n",
    "x_test.shape"
   ]
  },
  {
   "cell_type": "code",
   "execution_count": 156,
   "id": "64bc35dd",
   "metadata": {},
   "outputs": [
    {
     "data": {
      "text/plain": [
       "(65, 8)"
      ]
     },
     "execution_count": 156,
     "metadata": {},
     "output_type": "execute_result"
    }
   ],
   "source": [
    "from sklearn.linear_model import LinearRegression\n",
    "from sklearn.linear_model import LinearRegression\n",
    "regressor = LinearRegression()\n",
    "regressor.fit(x_train, y_train)\n",
    "\n",
    "predict=regressor.predict(x_test)\n",
    "\n",
    "predict\n",
    "dataset_train.shape"
   ]
  },
  {
   "cell_type": "code",
   "execution_count": 159,
   "id": "f049a2e9",
   "metadata": {},
   "outputs": [
    {
     "data": {
      "image/png": "[encoded data removed]",
      "text/plain": [
       "<Figure size 432x288 with 1 Axes>"
      ]
     },
     "metadata": {
      "needs_background": "light"
     },
     "output_type": "display_data"
    }
   ],
   "source": [
    "plt.plot(dataset_train.iloc[0:59:,6:7].values,color='red')\n",
    "plt.plot(predict,color='blue')\n",
    "plt.show()"
   ]
  },
  {
   "cell_type": "code",
   "execution_count": null,
   "id": "152aa291",
   "metadata": {},
   "outputs": [],
   "source": []
  }
 ],
 "metadata": {
  "kernelspec": {
   "display_name": "Python 3",
   "language": "python",
   "name": "python3"
  },
  "language_info": {
   "codemirror_mode": {
    "name": "ipython",
    "version": 3
   },
   "file_extension": ".py",
   "mimetype": "text/x-python",
   "name": "python",
   "nbconvert_exporter": "python",
   "pygments_lexer": "ipython3",
   "version": "3.9.4"
  }
 },
 "nbformat": 4,
 "nbformat_minor": 5
}
